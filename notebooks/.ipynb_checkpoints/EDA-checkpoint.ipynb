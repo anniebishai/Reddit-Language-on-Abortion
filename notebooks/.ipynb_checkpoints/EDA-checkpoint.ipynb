{
 "cells": [
  {
   "cell_type": "code",
   "execution_count": 22,
   "id": "2f701895-7c12-4f71-baf0-930cccfff056",
   "metadata": {},
   "outputs": [],
   "source": [
    "import pandas as pd\n",
    "import numpy as np\n",
    "import matplotlib.pyplot as plt\n",
    "import seaborn as sns\n",
    "\n",
    "from sklearn.preprocessing import StandardScaler\n",
    "from sklearn.model_selection import train_test_split, cross_val_score\n",
    "from sklearn.feature_extraction.text import CountVectorizer\n",
    "from sklearn.pipeline import Pipeline\n",
    "\n",
    "from nltk.stem import WordNetLemmatizer\n",
    "from nltk.tokenize import sent_tokenize, word_tokenize, RegexpTokenizer\n",
    "from nltk.stem.porter import PorterStemmer\n",
    "from nltk.corpus import stopwords"
   ]
  },
  {
   "cell_type": "code",
   "execution_count": 23,
   "id": "ccb97c48-f700-419f-81fa-c95c6bef9dad",
   "metadata": {},
   "outputs": [
    {
     "data": {
      "text/html": [
       "<div>\n",
       "<style scoped>\n",
       "    .dataframe tbody tr th:only-of-type {\n",
       "        vertical-align: middle;\n",
       "    }\n",
       "\n",
       "    .dataframe tbody tr th {\n",
       "        vertical-align: top;\n",
       "    }\n",
       "\n",
       "    .dataframe thead th {\n",
       "        text-align: right;\n",
       "    }\n",
       "</style>\n",
       "<table border=\"1\" class=\"dataframe\">\n",
       "  <thead>\n",
       "    <tr style=\"text-align: right;\">\n",
       "      <th></th>\n",
       "      <th>title</th>\n",
       "      <th>selftext</th>\n",
       "      <th>author_fullname</th>\n",
       "      <th>created_utc</th>\n",
       "      <th>subreddit</th>\n",
       "    </tr>\n",
       "  </thead>\n",
       "  <tbody>\n",
       "    <tr>\n",
       "      <th>0</th>\n",
       "      <td>Jake here thinks we use abortion as a girls ni...</td>\n",
       "      <td>NaN</td>\n",
       "      <td>t2_h4yrdcak</td>\n",
       "      <td>1645731680</td>\n",
       "      <td>prochoice</td>\n",
       "    </tr>\n",
       "    <tr>\n",
       "      <th>1</th>\n",
       "      <td>How Black Feminists Defined Abortion Rights—As...</td>\n",
       "      <td>NaN</td>\n",
       "      <td>t2_wkk8q</td>\n",
       "      <td>1645729017</td>\n",
       "      <td>prochoice</td>\n",
       "    </tr>\n",
       "    <tr>\n",
       "      <th>2</th>\n",
       "      <td>US-linked anti-abortion centre targeting women...</td>\n",
       "      <td>NaN</td>\n",
       "      <td>t2_bkt67o0k</td>\n",
       "      <td>1645714835</td>\n",
       "      <td>prochoice</td>\n",
       "    </tr>\n",
       "    <tr>\n",
       "      <th>3</th>\n",
       "      <td>I catch myself sometimes looking for the proli...</td>\n",
       "      <td>Anyone else ever do that? I think *Pfb* (pro f...</td>\n",
       "      <td>t2_47mcn020</td>\n",
       "      <td>1645655368</td>\n",
       "      <td>prochoice</td>\n",
       "    </tr>\n",
       "    <tr>\n",
       "      <th>4</th>\n",
       "      <td>France extends abortion limit to 14 weeks</td>\n",
       "      <td>NaN</td>\n",
       "      <td>t2_n6epl</td>\n",
       "      <td>1645650196</td>\n",
       "      <td>prochoice</td>\n",
       "    </tr>\n",
       "  </tbody>\n",
       "</table>\n",
       "</div>"
      ],
      "text/plain": [
       "                                               title  \\\n",
       "0  Jake here thinks we use abortion as a girls ni...   \n",
       "1  How Black Feminists Defined Abortion Rights—As...   \n",
       "2  US-linked anti-abortion centre targeting women...   \n",
       "3  I catch myself sometimes looking for the proli...   \n",
       "4          France extends abortion limit to 14 weeks   \n",
       "\n",
       "                                            selftext author_fullname  \\\n",
       "0                                                NaN     t2_h4yrdcak   \n",
       "1                                                NaN        t2_wkk8q   \n",
       "2                                                NaN     t2_bkt67o0k   \n",
       "3  Anyone else ever do that? I think *Pfb* (pro f...     t2_47mcn020   \n",
       "4                                                NaN        t2_n6epl   \n",
       "\n",
       "   created_utc  subreddit  \n",
       "0   1645731680  prochoice  \n",
       "1   1645729017  prochoice  \n",
       "2   1645714835  prochoice  \n",
       "3   1645655368  prochoice  \n",
       "4   1645650196  prochoice  "
      ]
     },
     "execution_count": 23,
     "metadata": {},
     "output_type": "execute_result"
    }
   ],
   "source": [
    "df = pd.read_csv('../data/posts.csv')\n",
    "df.head()"
   ]
  },
  {
   "cell_type": "code",
   "execution_count": 24,
   "id": "3313042e-aaf2-45e1-b543-9582ecfd34c5",
   "metadata": {},
   "outputs": [],
   "source": [
    "df['prolife_or_not'] = df['subreddit'].map({'prolife':1, 'prochoice':0})\n",
    "# Creating this for EDA - make legends readable"
   ]
  },
  {
   "cell_type": "markdown",
   "id": "4cffdd49-be69-41db-a407-e2b48817dfdf",
   "metadata": {},
   "source": [
    "## CountVectorizers on title, subtext separately"
   ]
  },
  {
   "cell_type": "code",
   "execution_count": 25,
   "id": "46bfa8b1-7396-4bcc-8a20-243d768a0295",
   "metadata": {},
   "outputs": [],
   "source": [
    "cv = CountVectorizer(stop_words='english',\n",
    "                       min_df=2,\n",
    "                       max_df=.95,\n",
    "                       ngram_range=(1,3),\n",
    "                       max_features=7000)\n",
    "cv.fit(df['title'])\n",
    "\n",
    "title_vectors = cv.transform(df['title'])\n",
    "#X_test_cvec = cvec.transform(X_test)\n",
    "title_df = pd.DataFrame(title_vectors.todense(), columns=cv.get_feature_names())"
   ]
  },
  {
   "cell_type": "code",
   "execution_count": 26,
   "id": "0dfa0e1f-6da9-4295-8beb-c6856de87dee",
   "metadata": {},
   "outputs": [
    {
     "data": {
      "text/plain": [
       "(9986, 7000)"
      ]
     },
     "execution_count": 26,
     "metadata": {},
     "output_type": "execute_result"
    }
   ],
   "source": [
    "title_df.shape"
   ]
  },
  {
   "cell_type": "code",
   "execution_count": 27,
   "id": "b59b71c4-f58c-4c47-8ef9-9f312db9f782",
   "metadata": {
    "tags": []
   },
   "outputs": [
    {
     "data": {
      "text/html": [
       "<div>\n",
       "<style scoped>\n",
       "    .dataframe tbody tr th:only-of-type {\n",
       "        vertical-align: middle;\n",
       "    }\n",
       "\n",
       "    .dataframe tbody tr th {\n",
       "        vertical-align: top;\n",
       "    }\n",
       "\n",
       "    .dataframe thead th {\n",
       "        text-align: right;\n",
       "    }\n",
       "</style>\n",
       "<table border=\"1\" class=\"dataframe\">\n",
       "  <thead>\n",
       "    <tr style=\"text-align: right;\">\n",
       "      <th></th>\n",
       "      <th>title</th>\n",
       "      <th>selftext</th>\n",
       "      <th>author_fullname</th>\n",
       "      <th>created_utc</th>\n",
       "      <th>subreddit</th>\n",
       "      <th>prolife_or_not</th>\n",
       "    </tr>\n",
       "  </thead>\n",
       "  <tbody>\n",
       "    <tr>\n",
       "      <th>9</th>\n",
       "      <td>Let's say there's a person who supports aborti...</td>\n",
       "      <td>The answers that have the little asterisk mean...</td>\n",
       "      <td>t2_guxlo35u</td>\n",
       "      <td>1645573429</td>\n",
       "      <td>prochoice</td>\n",
       "      <td>0</td>\n",
       "    </tr>\n",
       "    <tr>\n",
       "      <th>11</th>\n",
       "      <td>It's interesting how pro-lifers say that most ...</td>\n",
       "      <td>That logic is so strange... You tell a woman w...</td>\n",
       "      <td>t2_dwaua2ch</td>\n",
       "      <td>1645563299</td>\n",
       "      <td>prochoice</td>\n",
       "      <td>0</td>\n",
       "    </tr>\n",
       "    <tr>\n",
       "      <th>27</th>\n",
       "      <td>Why are you pro-choice?</td>\n",
       "      <td>I'm a pro-lifer, and I want to hear the other ...</td>\n",
       "      <td>t2_4cnfydq4</td>\n",
       "      <td>1645499230</td>\n",
       "      <td>prochoice</td>\n",
       "      <td>0</td>\n",
       "    </tr>\n",
       "    <tr>\n",
       "      <th>79</th>\n",
       "      <td>pro-lifer here to argue my opionon</td>\n",
       "      <td>[removed]</td>\n",
       "      <td>t2_jqa5xhlu</td>\n",
       "      <td>1644952897</td>\n",
       "      <td>prochoice</td>\n",
       "      <td>0</td>\n",
       "    </tr>\n",
       "    <tr>\n",
       "      <th>84</th>\n",
       "      <td>Need fellow pro-choicers to answer some questi...</td>\n",
       "      <td>Im writing a paper for school on abortion and ...</td>\n",
       "      <td>t2_8x8w6aeq</td>\n",
       "      <td>1644927044</td>\n",
       "      <td>prochoice</td>\n",
       "      <td>0</td>\n",
       "    </tr>\n",
       "    <tr>\n",
       "      <th>...</th>\n",
       "      <td>...</td>\n",
       "      <td>...</td>\n",
       "      <td>...</td>\n",
       "      <td>...</td>\n",
       "      <td>...</td>\n",
       "      <td>...</td>\n",
       "    </tr>\n",
       "    <tr>\n",
       "      <th>9937</th>\n",
       "      <td>Are there any pro-life Jews on this subreddit?...</td>\n",
       "      <td>NaN</td>\n",
       "      <td>t2_cpwihepv</td>\n",
       "      <td>1630068404</td>\n",
       "      <td>prolife</td>\n",
       "      <td>1</td>\n",
       "    </tr>\n",
       "    <tr>\n",
       "      <th>9953</th>\n",
       "      <td>do you have any hope for the future of the pro...</td>\n",
       "      <td>truth be told, I don't. with the onset of left...</td>\n",
       "      <td>t2_akti2ydn</td>\n",
       "      <td>1629978469</td>\n",
       "      <td>prolife</td>\n",
       "      <td>1</td>\n",
       "    </tr>\n",
       "    <tr>\n",
       "      <th>9964</th>\n",
       "      <td>The Wish List (political organization) [List o...</td>\n",
       "      <td>NaN</td>\n",
       "      <td>t2_1q7ke3th</td>\n",
       "      <td>1629914996</td>\n",
       "      <td>prolife</td>\n",
       "      <td>1</td>\n",
       "    </tr>\n",
       "    <tr>\n",
       "      <th>9968</th>\n",
       "      <td>If you're on Instagram (or Facebook or Twitter...</td>\n",
       "      <td>NaN</td>\n",
       "      <td>t2_85oaok68</td>\n",
       "      <td>1629900204</td>\n",
       "      <td>prolife</td>\n",
       "      <td>1</td>\n",
       "    </tr>\n",
       "    <tr>\n",
       "      <th>9983</th>\n",
       "      <td>Man it's hard to be a pro-life leftist. I got ...</td>\n",
       "      <td>NaN</td>\n",
       "      <td>t2_bec7k5ya</td>\n",
       "      <td>1629814786</td>\n",
       "      <td>prolife</td>\n",
       "      <td>1</td>\n",
       "    </tr>\n",
       "  </tbody>\n",
       "</table>\n",
       "<p>859 rows × 6 columns</p>\n",
       "</div>"
      ],
      "text/plain": [
       "                                                  title  \\\n",
       "9     Let's say there's a person who supports aborti...   \n",
       "11    It's interesting how pro-lifers say that most ...   \n",
       "27                              Why are you pro-choice?   \n",
       "79                   pro-lifer here to argue my opionon   \n",
       "84    Need fellow pro-choicers to answer some questi...   \n",
       "...                                                 ...   \n",
       "9937  Are there any pro-life Jews on this subreddit?...   \n",
       "9953  do you have any hope for the future of the pro...   \n",
       "9964  The Wish List (political organization) [List o...   \n",
       "9968  If you're on Instagram (or Facebook or Twitter...   \n",
       "9983  Man it's hard to be a pro-life leftist. I got ...   \n",
       "\n",
       "                                               selftext author_fullname  \\\n",
       "9     The answers that have the little asterisk mean...     t2_guxlo35u   \n",
       "11    That logic is so strange... You tell a woman w...     t2_dwaua2ch   \n",
       "27    I'm a pro-lifer, and I want to hear the other ...     t2_4cnfydq4   \n",
       "79                                            [removed]     t2_jqa5xhlu   \n",
       "84    Im writing a paper for school on abortion and ...     t2_8x8w6aeq   \n",
       "...                                                 ...             ...   \n",
       "9937                                                NaN     t2_cpwihepv   \n",
       "9953  truth be told, I don't. with the onset of left...     t2_akti2ydn   \n",
       "9964                                                NaN     t2_1q7ke3th   \n",
       "9968                                                NaN     t2_85oaok68   \n",
       "9983                                                NaN     t2_bec7k5ya   \n",
       "\n",
       "      created_utc  subreddit  prolife_or_not  \n",
       "9      1645573429  prochoice               0  \n",
       "11     1645563299  prochoice               0  \n",
       "27     1645499230  prochoice               0  \n",
       "79     1644952897  prochoice               0  \n",
       "84     1644927044  prochoice               0  \n",
       "...           ...        ...             ...  \n",
       "9937   1630068404    prolife               1  \n",
       "9953   1629978469    prolife               1  \n",
       "9964   1629914996    prolife               1  \n",
       "9968   1629900204    prolife               1  \n",
       "9983   1629814786    prolife               1  \n",
       "\n",
       "[859 rows x 6 columns]"
      ]
     },
     "execution_count": 27,
     "metadata": {},
     "output_type": "execute_result"
    }
   ],
   "source": [
    "df[df['title'].str.contains('pro-')]"
   ]
  },
  {
   "cell_type": "code",
   "execution_count": 31,
   "id": "3dbce11e-31e4-4add-8991-890ec7c6aef4",
   "metadata": {},
   "outputs": [
    {
     "data": {
      "text/html": [
       "<div>\n",
       "<style scoped>\n",
       "    .dataframe tbody tr th:only-of-type {\n",
       "        vertical-align: middle;\n",
       "    }\n",
       "\n",
       "    .dataframe tbody tr th {\n",
       "        vertical-align: top;\n",
       "    }\n",
       "\n",
       "    .dataframe thead th {\n",
       "        text-align: right;\n",
       "    }\n",
       "</style>\n",
       "<table border=\"1\" class=\"dataframe\">\n",
       "  <thead>\n",
       "    <tr style=\"text-align: right;\">\n",
       "      <th></th>\n",
       "      <th>00</th>\n",
       "      <th>000</th>\n",
       "      <th>01</th>\n",
       "      <th>10</th>\n",
       "      <th>10 weeks</th>\n",
       "      <th>100</th>\n",
       "      <th>1000</th>\n",
       "      <th>10k</th>\n",
       "      <th>11</th>\n",
       "      <th>11 year</th>\n",
       "      <th>...</th>\n",
       "      <th>pro-murdering</th>\n",
       "      <th>pro-natalist</th>\n",
       "      <th>pro-nothing</th>\n",
       "      <th>pro-planet</th>\n",
       "      <th>pro-science</th>\n",
       "      <th>pro-selfishness</th>\n",
       "      <th>pro-unborn</th>\n",
       "      <th>pro-vaccine</th>\n",
       "      <th>pro-woman</th>\n",
       "      <th>prolife_or_not</th>\n",
       "    </tr>\n",
       "  </thead>\n",
       "  <tbody>\n",
       "    <tr>\n",
       "      <th>0</th>\n",
       "      <td>0</td>\n",
       "      <td>0</td>\n",
       "      <td>0</td>\n",
       "      <td>0</td>\n",
       "      <td>0</td>\n",
       "      <td>0</td>\n",
       "      <td>0</td>\n",
       "      <td>0</td>\n",
       "      <td>0</td>\n",
       "      <td>0</td>\n",
       "      <td>...</td>\n",
       "      <td>0</td>\n",
       "      <td>0</td>\n",
       "      <td>0</td>\n",
       "      <td>0</td>\n",
       "      <td>0</td>\n",
       "      <td>0</td>\n",
       "      <td>0</td>\n",
       "      <td>0</td>\n",
       "      <td>0</td>\n",
       "      <td>0</td>\n",
       "    </tr>\n",
       "    <tr>\n",
       "      <th>1</th>\n",
       "      <td>0</td>\n",
       "      <td>0</td>\n",
       "      <td>0</td>\n",
       "      <td>0</td>\n",
       "      <td>0</td>\n",
       "      <td>0</td>\n",
       "      <td>0</td>\n",
       "      <td>0</td>\n",
       "      <td>0</td>\n",
       "      <td>0</td>\n",
       "      <td>...</td>\n",
       "      <td>0</td>\n",
       "      <td>0</td>\n",
       "      <td>0</td>\n",
       "      <td>0</td>\n",
       "      <td>0</td>\n",
       "      <td>0</td>\n",
       "      <td>0</td>\n",
       "      <td>0</td>\n",
       "      <td>0</td>\n",
       "      <td>0</td>\n",
       "    </tr>\n",
       "    <tr>\n",
       "      <th>2</th>\n",
       "      <td>0</td>\n",
       "      <td>0</td>\n",
       "      <td>0</td>\n",
       "      <td>0</td>\n",
       "      <td>0</td>\n",
       "      <td>0</td>\n",
       "      <td>0</td>\n",
       "      <td>0</td>\n",
       "      <td>0</td>\n",
       "      <td>0</td>\n",
       "      <td>...</td>\n",
       "      <td>0</td>\n",
       "      <td>0</td>\n",
       "      <td>0</td>\n",
       "      <td>0</td>\n",
       "      <td>0</td>\n",
       "      <td>0</td>\n",
       "      <td>0</td>\n",
       "      <td>0</td>\n",
       "      <td>0</td>\n",
       "      <td>0</td>\n",
       "    </tr>\n",
       "    <tr>\n",
       "      <th>3</th>\n",
       "      <td>0</td>\n",
       "      <td>0</td>\n",
       "      <td>0</td>\n",
       "      <td>0</td>\n",
       "      <td>0</td>\n",
       "      <td>0</td>\n",
       "      <td>0</td>\n",
       "      <td>0</td>\n",
       "      <td>0</td>\n",
       "      <td>0</td>\n",
       "      <td>...</td>\n",
       "      <td>0</td>\n",
       "      <td>0</td>\n",
       "      <td>0</td>\n",
       "      <td>0</td>\n",
       "      <td>0</td>\n",
       "      <td>0</td>\n",
       "      <td>0</td>\n",
       "      <td>0</td>\n",
       "      <td>0</td>\n",
       "      <td>0</td>\n",
       "    </tr>\n",
       "    <tr>\n",
       "      <th>4</th>\n",
       "      <td>0</td>\n",
       "      <td>0</td>\n",
       "      <td>0</td>\n",
       "      <td>0</td>\n",
       "      <td>0</td>\n",
       "      <td>0</td>\n",
       "      <td>0</td>\n",
       "      <td>0</td>\n",
       "      <td>0</td>\n",
       "      <td>0</td>\n",
       "      <td>...</td>\n",
       "      <td>0</td>\n",
       "      <td>0</td>\n",
       "      <td>0</td>\n",
       "      <td>0</td>\n",
       "      <td>0</td>\n",
       "      <td>0</td>\n",
       "      <td>0</td>\n",
       "      <td>0</td>\n",
       "      <td>0</td>\n",
       "      <td>0</td>\n",
       "    </tr>\n",
       "  </tbody>\n",
       "</table>\n",
       "<p>5 rows × 7049 columns</p>\n",
       "</div>"
      ],
      "text/plain": [
       "   00  000  01  10  10 weeks  100  1000  10k  11  11 year  ...  pro-murdering  \\\n",
       "0   0    0   0   0         0    0     0    0   0        0  ...              0   \n",
       "1   0    0   0   0         0    0     0    0   0        0  ...              0   \n",
       "2   0    0   0   0         0    0     0    0   0        0  ...              0   \n",
       "3   0    0   0   0         0    0     0    0   0        0  ...              0   \n",
       "4   0    0   0   0         0    0     0    0   0        0  ...              0   \n",
       "\n",
       "   pro-natalist  pro-nothing  pro-planet  pro-science  pro-selfishness  \\\n",
       "0             0            0           0            0                0   \n",
       "1             0            0           0            0                0   \n",
       "2             0            0           0            0                0   \n",
       "3             0            0           0            0                0   \n",
       "4             0            0           0            0                0   \n",
       "\n",
       "   pro-unborn  pro-vaccine  pro-woman  prolife_or_not  \n",
       "0           0            0          0               0  \n",
       "1           0            0          0               0  \n",
       "2           0            0          0               0  \n",
       "3           0            0          0               0  \n",
       "4           0            0          0               0  \n",
       "\n",
       "[5 rows x 7049 columns]"
      ]
     },
     "execution_count": 31,
     "metadata": {},
     "output_type": "execute_result"
    }
   ],
   "source": [
    "cv_pro = CountVectorizer(token_pattern='pro\\-\\w+')\n",
    "\n",
    "compound_vectors = cv_pro.fit_transform(df['title'])\n",
    "title_compound_df = pd.DataFrame(compound_vectors.todense(), columns = cv_pro.get_feature_names())\n",
    "\n",
    "title_vectors_with_compounds = pd.concat([title_df, title_compound_df], axis=1)\n",
    "\n",
    "title_vectors_with_compounds['prolife_or_not'] = df['prolife_or_not']\n",
    "title_vectors_with_compounds.head()"
   ]
  },
  {
   "cell_type": "code",
   "execution_count": 32,
   "id": "755c0a37-02c9-4808-9a57-9438a2f52d37",
   "metadata": {
    "tags": []
   },
   "outputs": [
    {
     "data": {
      "text/plain": [
       "<AxesSubplot:title={'center':'Top words in post titles in pro-life subreddit'}>"
      ]
     },
     "execution_count": 32,
     "metadata": {},
     "output_type": "execute_result"
    },
    {
     "data": {
      "image/png": "[encoded data removed]",
      "text/plain": [
       "<Figure size 576x864 with 1 Axes>"
      ]
     },
     "metadata": {
      "needs_background": "light"
     },
     "output_type": "display_data"
    }
   ],
   "source": [
    "# most common words in prolife subreddit\n",
    "# barh code from NLP II lecture\n",
    "\n",
    "title_vectors_with_compounds.groupby('prolife_or_not').sum().T.sort_values(1).tail(20).plot.barh(figsize=(8,12), title='Top words in post titles in pro-life subreddit')\n"
   ]
  },
  {
   "cell_type": "code",
   "execution_count": null,
   "id": "3f0866df-e8dc-4080-89f8-fd9898390e01",
   "metadata": {},
   "outputs": [],
   "source": [
    "# top pro-choice words\n",
    "\n",
    "title_vectors_with_compounds.groupby('prolife_or_not').sum().T.sort_values(0).tail(20).plot.barh(figsize=(8,12), title='Top words in post titles in pro-choice subreddit')\n"
   ]
  },
  {
   "cell_type": "code",
   "execution_count": null,
   "id": "219f8e41-a189-4e08-ae1c-71ae6a4f237e",
   "metadata": {
    "tags": []
   },
   "outputs": [],
   "source": [
    "# same as above but on selftext\n",
    "\n",
    "df_selftext = df.dropna()\n",
    "df_selftext.index"
   ]
  },
  {
   "cell_type": "code",
   "execution_count": null,
   "id": "5317839c-94a1-444e-a853-5ddf80c346d1",
   "metadata": {
    "tags": []
   },
   "outputs": [],
   "source": [
    "cv_self = CountVectorizer(stop_words='english',\n",
    "                       min_df=2,\n",
    "                       max_df=.95,\n",
    "                       ngram_range=(1,3),\n",
    "                       max_features=7000)\n",
    "self_vectors = cv_self.fit_transform(df_selftext['selftext'])\n",
    "self_vectors_df = pd.DataFrame(self_vectors.todense(), columns=cv_self.get_feature_names(), index=df_selftext.index)\n",
    "\n",
    "cv_self_compounds = CountVectorizer(token_pattern='pro\\-\\w+')\n",
    "self_compound_vectors = cv_self_pro.fit_transform(df_selftext['selftext'])\n",
    "self_compound_df = pd.DataFrame(self_pro_vectors.todense(), columns = cv_self_pro.get_feature_names(), index=df_selftext.index)\n",
    "\n",
    "selftext_vectors_with_compounds = pd.concat([self_vectors_df, self_pro_df], axis=1)\n",
    "selftext_vectors_with_compounds['prolife_or_not'] = df_selftext['prolife_or_not']\n",
    "selftext_vectors_with_compounds.head()\n"
   ]
  },
  {
   "cell_type": "code",
   "execution_count": null,
   "id": "77c006a9-0380-48bf-afba-18cb5b63bb76",
   "metadata": {
    "tags": []
   },
   "outputs": [],
   "source": [
    "selftext_vectors_with_compounds.groupby('prolife_or_not').sum().T.sort_values(1).tail(10)\n",
    "#top words in pro-life subreddit selftext'"
   ]
  },
  {
   "cell_type": "code",
   "execution_count": null,
   "id": "49c1582e-79dd-441b-a250-74f946d528cf",
   "metadata": {
    "tags": []
   },
   "outputs": [],
   "source": [
    "selftext_vectors_with_compounds.groupby('prolife_or_not').sum().T.sort_values(0).tail(10)\n",
    "#top words in pro-choice subreddit selftext'\n"
   ]
  },
  {
   "cell_type": "code",
   "execution_count": null,
   "id": "2a67a97f-d9c0-41f6-8e1b-c4499174c669",
   "metadata": {
    "tags": []
   },
   "outputs": [],
   "source": [
    "prolife_nans = df[df['subreddit'] == 'prolife'][['selftext']].isnull().sum().values\n",
    "prochoice_nans = df[df['subreddit'] == 'prochoice'][['selftext']].isnull().sum().values\n",
    "\n",
    "print(f'total missing selftext in prolife = {prolife_nans}')\n",
    "print(f'total missing selftext in prochoice = {prochoice_nans}')"
   ]
  },
  {
   "cell_type": "markdown",
   "id": "0a8507f3-4130-4dac-b02f-75d520f63a73",
   "metadata": {},
   "source": [
    "- per the above, there are about the same number of missing selftexts in both categories, so probably MCAR"
   ]
  },
  {
   "cell_type": "code",
   "execution_count": null,
   "id": "95bb7866-8c9d-4ba1-9a77-e2f470d21180",
   "metadata": {},
   "outputs": [],
   "source": [
    "# Is there a difference in top words between title and selftext?\n",
    "\n",
    "top_prochoice_selftext = all_selftext_vectors[all_selftext_vectors['prolife_or_not'] == 0].sum().sort_values(ascending=False)[:20]\n",
    "top_prochoice_title = all_vectors[all_vectors['prolife_or_not'] == 0].sum().sort_values(ascending=False)[:20]\n",
    "\n",
    "\n",
    "print(f'in selftext not title prochoice: {[i for i in top_prochoice_selftext.index if i not in top_prochoice_title.index]}')\n",
    "print(f'number of selftext words not in title: {len([i for i in top_prochoice_selftext.index if i not in top_prochoice_title.index])}')\n",
    "print(f'in title not selftext prochoice: {[i for i in top_prochoice_title.index if i not in top_prochoice_selftext.index]}')\n",
    "print(f'number of title words not in selftext: {len([i for i in top_prochoice_title.index if i not in top_prochoice_selftext.index])}')"
   ]
  },
  {
   "cell_type": "markdown",
   "id": "ce4ffb57-2f1d-4e99-a9c3-7ef4b0a3939c",
   "metadata": {},
   "source": [
    "### Creating column combining title and selftext"
   ]
  },
  {
   "cell_type": "code",
   "execution_count": 33,
   "id": "21018451-e399-46a7-9490-d45dcf2a262f",
   "metadata": {},
   "outputs": [],
   "source": [
    "df['selftext_impute'] = df['selftext'].fillna(' ')"
   ]
  },
  {
   "cell_type": "code",
   "execution_count": 34,
   "id": "fc5ac95f-15ff-4454-85eb-431a94c5015e",
   "metadata": {},
   "outputs": [
    {
     "data": {
      "text/html": [
       "<div>\n",
       "<style scoped>\n",
       "    .dataframe tbody tr th:only-of-type {\n",
       "        vertical-align: middle;\n",
       "    }\n",
       "\n",
       "    .dataframe tbody tr th {\n",
       "        vertical-align: top;\n",
       "    }\n",
       "\n",
       "    .dataframe thead th {\n",
       "        text-align: right;\n",
       "    }\n",
       "</style>\n",
       "<table border=\"1\" class=\"dataframe\">\n",
       "  <thead>\n",
       "    <tr style=\"text-align: right;\">\n",
       "      <th></th>\n",
       "      <th>title</th>\n",
       "      <th>selftext</th>\n",
       "      <th>author_fullname</th>\n",
       "      <th>created_utc</th>\n",
       "      <th>subreddit</th>\n",
       "      <th>prolife_or_not</th>\n",
       "      <th>selftext_impute</th>\n",
       "    </tr>\n",
       "  </thead>\n",
       "  <tbody>\n",
       "  </tbody>\n",
       "</table>\n",
       "</div>"
      ],
      "text/plain": [
       "Empty DataFrame\n",
       "Columns: [title, selftext, author_fullname, created_utc, subreddit, prolife_or_not, selftext_impute]\n",
       "Index: []"
      ]
     },
     "execution_count": 34,
     "metadata": {},
     "output_type": "execute_result"
    }
   ],
   "source": [
    "df['selftext_impute'].replace('[removed]', ' ', inplace=True)\n",
    "df[df['selftext_impute'] == '[removed]']"
   ]
  },
  {
   "cell_type": "code",
   "execution_count": 35,
   "id": "10ed62b6-670e-491a-973d-b59ba3a09167",
   "metadata": {},
   "outputs": [
    {
     "data": {
      "text/html": [
       "<div>\n",
       "<style scoped>\n",
       "    .dataframe tbody tr th:only-of-type {\n",
       "        vertical-align: middle;\n",
       "    }\n",
       "\n",
       "    .dataframe tbody tr th {\n",
       "        vertical-align: top;\n",
       "    }\n",
       "\n",
       "    .dataframe thead th {\n",
       "        text-align: right;\n",
       "    }\n",
       "</style>\n",
       "<table border=\"1\" class=\"dataframe\">\n",
       "  <thead>\n",
       "    <tr style=\"text-align: right;\">\n",
       "      <th></th>\n",
       "      <th>title</th>\n",
       "      <th>selftext</th>\n",
       "      <th>all_text</th>\n",
       "    </tr>\n",
       "  </thead>\n",
       "  <tbody>\n",
       "    <tr>\n",
       "      <th>0</th>\n",
       "      <td>Jake here thinks we use abortion as a girls ni...</td>\n",
       "      <td>NaN</td>\n",
       "      <td>Jake here thinks we use abortion as a girls ni...</td>\n",
       "    </tr>\n",
       "    <tr>\n",
       "      <th>1</th>\n",
       "      <td>How Black Feminists Defined Abortion Rights—As...</td>\n",
       "      <td>NaN</td>\n",
       "      <td>How Black Feminists Defined Abortion Rights—As...</td>\n",
       "    </tr>\n",
       "    <tr>\n",
       "      <th>2</th>\n",
       "      <td>US-linked anti-abortion centre targeting women...</td>\n",
       "      <td>NaN</td>\n",
       "      <td>US-linked anti-abortion centre targeting women...</td>\n",
       "    </tr>\n",
       "    <tr>\n",
       "      <th>3</th>\n",
       "      <td>I catch myself sometimes looking for the proli...</td>\n",
       "      <td>Anyone else ever do that? I think *Pfb* (pro f...</td>\n",
       "      <td>I catch myself sometimes looking for the proli...</td>\n",
       "    </tr>\n",
       "    <tr>\n",
       "      <th>4</th>\n",
       "      <td>France extends abortion limit to 14 weeks</td>\n",
       "      <td>NaN</td>\n",
       "      <td>France extends abortion limit to 14 weeks</td>\n",
       "    </tr>\n",
       "  </tbody>\n",
       "</table>\n",
       "</div>"
      ],
      "text/plain": [
       "                                               title  \\\n",
       "0  Jake here thinks we use abortion as a girls ni...   \n",
       "1  How Black Feminists Defined Abortion Rights—As...   \n",
       "2  US-linked anti-abortion centre targeting women...   \n",
       "3  I catch myself sometimes looking for the proli...   \n",
       "4          France extends abortion limit to 14 weeks   \n",
       "\n",
       "                                            selftext  \\\n",
       "0                                                NaN   \n",
       "1                                                NaN   \n",
       "2                                                NaN   \n",
       "3  Anyone else ever do that? I think *Pfb* (pro f...   \n",
       "4                                                NaN   \n",
       "\n",
       "                                            all_text  \n",
       "0  Jake here thinks we use abortion as a girls ni...  \n",
       "1  How Black Feminists Defined Abortion Rights—As...  \n",
       "2  US-linked anti-abortion centre targeting women...  \n",
       "3  I catch myself sometimes looking for the proli...  \n",
       "4        France extends abortion limit to 14 weeks    "
      ]
     },
     "execution_count": 35,
     "metadata": {},
     "output_type": "execute_result"
    }
   ],
   "source": [
    "df['all_text'] = df['title'] + ' ' + df['selftext_impute']\n",
    "df[['title', 'selftext', 'all_text']].head()"
   ]
  },
  {
   "cell_type": "code",
   "execution_count": 36,
   "id": "5b4b8d57-e474-49e8-8cf8-d82c2f5b3970",
   "metadata": {},
   "outputs": [],
   "source": [
    "df.to_csv('../data/posts_combined_text.csv', index=False)"
   ]
  },
  {
   "cell_type": "code",
   "execution_count": 371,
   "id": "e290a21d-8a3f-439b-a21c-34af4b42adb9",
   "metadata": {},
   "outputs": [
    {
     "data": {
      "text/plain": [
       "about bodily       7318\n",
       "sexist             5327\n",
       "prolife_or_not     4986\n",
       "miss               4176\n",
       "put                2946\n",
       "                   ... \n",
       "really want to        9\n",
       "reason for this       9\n",
       "reason to             9\n",
       "received              9\n",
       "members of pro        9\n",
       "Length: 7001, dtype: int64"
      ]
     },
     "execution_count": 371,
     "metadata": {},
     "output_type": "execute_result"
    }
   ],
   "source": [
    "# Vectorizing without worrying about the \"pro-\" compounds\n",
    "\n",
    "cv_alltext = CountVectorizer(\n",
    "    stop_words = ['png', 'https', 'www'],\n",
    "    min_df=2,\n",
    "    max_df=.95,\n",
    "    ngram_range=(1,3),\n",
    "    max_features=7000,\n",
    "    binary=True)\n",
    "                        \n",
    "cv_alltext.fit(df['all_text'])\n",
    "\n",
    "vectors = cv.transform(df['all_text'])\n",
    "vector_df = pd.DataFrame(vectors.todense(), columns=cv_alltext.get_feature_names())\n",
    "\n",
    "vector_df['prolife_or_not'] = df['prolife_or_not']\n",
    "\n",
    "vector_df.sum().sort_values(ascending=False)"
   ]
  },
  {
   "cell_type": "code",
   "execution_count": 372,
   "id": "72291df4-e98b-4cc6-86a0-4fc58a2ee3e7",
   "metadata": {},
   "outputs": [
    {
     "data": {
      "text/html": [
       "<div>\n",
       "<style scoped>\n",
       "    .dataframe tbody tr th:only-of-type {\n",
       "        vertical-align: middle;\n",
       "    }\n",
       "\n",
       "    .dataframe tbody tr th {\n",
       "        vertical-align: top;\n",
       "    }\n",
       "\n",
       "    .dataframe thead th {\n",
       "        text-align: right;\n",
       "    }\n",
       "</style>\n",
       "<table border=\"1\" class=\"dataframe\">\n",
       "  <thead>\n",
       "    <tr style=\"text-align: right;\">\n",
       "      <th>prolife_or_not</th>\n",
       "      <th>0</th>\n",
       "      <th>1</th>\n",
       "    </tr>\n",
       "  </thead>\n",
       "  <tbody>\n",
       "    <tr>\n",
       "      <th>it be</th>\n",
       "      <td>1137</td>\n",
       "      <td>474</td>\n",
       "    </tr>\n",
       "    <tr>\n",
       "      <th>chance</th>\n",
       "      <td>1256</td>\n",
       "      <td>779</td>\n",
       "    </tr>\n",
       "    <tr>\n",
       "      <th>my mind</th>\n",
       "      <td>1274</td>\n",
       "      <td>689</td>\n",
       "    </tr>\n",
       "    <tr>\n",
       "      <th>feminists</th>\n",
       "      <td>1416</td>\n",
       "      <td>834</td>\n",
       "    </tr>\n",
       "    <tr>\n",
       "      <th>little</th>\n",
       "      <td>1617</td>\n",
       "      <td>933</td>\n",
       "    </tr>\n",
       "    <tr>\n",
       "      <th>worse</th>\n",
       "      <td>1686</td>\n",
       "      <td>718</td>\n",
       "    </tr>\n",
       "    <tr>\n",
       "      <th>put</th>\n",
       "      <td>1892</td>\n",
       "      <td>1054</td>\n",
       "    </tr>\n",
       "    <tr>\n",
       "      <th>miss</th>\n",
       "      <td>2118</td>\n",
       "      <td>2058</td>\n",
       "    </tr>\n",
       "    <tr>\n",
       "      <th>sexist</th>\n",
       "      <td>2591</td>\n",
       "      <td>2736</td>\n",
       "    </tr>\n",
       "    <tr>\n",
       "      <th>about bodily</th>\n",
       "      <td>4618</td>\n",
       "      <td>2700</td>\n",
       "    </tr>\n",
       "  </tbody>\n",
       "</table>\n",
       "</div>"
      ],
      "text/plain": [
       "prolife_or_not     0     1\n",
       "it be           1137   474\n",
       "chance          1256   779\n",
       "my mind         1274   689\n",
       "feminists       1416   834\n",
       "little          1617   933\n",
       "worse           1686   718\n",
       "put             1892  1054\n",
       "miss            2118  2058\n",
       "sexist          2591  2736\n",
       "about bodily    4618  2700"
      ]
     },
     "execution_count": 372,
     "metadata": {},
     "output_type": "execute_result"
    }
   ],
   "source": [
    "vector_df.groupby('prolife_or_not').sum().T.sort_values(0).tail(10)\n",
    "# top words in all text of pro-choice subreddit posts"
   ]
  },
  {
   "cell_type": "code",
   "execution_count": 374,
   "id": "b0f5bb97-aeec-400e-9034-793f31fe2661",
   "metadata": {},
   "outputs": [
    {
     "data": {
      "text/html": [
       "<div>\n",
       "<style scoped>\n",
       "    .dataframe tbody tr th:only-of-type {\n",
       "        vertical-align: middle;\n",
       "    }\n",
       "\n",
       "    .dataframe tbody tr th {\n",
       "        vertical-align: top;\n",
       "    }\n",
       "\n",
       "    .dataframe thead th {\n",
       "        text-align: right;\n",
       "    }\n",
       "</style>\n",
       "<table border=\"1\" class=\"dataframe\">\n",
       "  <thead>\n",
       "    <tr style=\"text-align: right;\">\n",
       "      <th>prolife_or_not</th>\n",
       "      <th>0</th>\n",
       "      <th>1</th>\n",
       "    </tr>\n",
       "  </thead>\n",
       "  <tbody>\n",
       "    <tr>\n",
       "      <th>sexist</th>\n",
       "      <td>2591</td>\n",
       "      <td>2736</td>\n",
       "    </tr>\n",
       "    <tr>\n",
       "      <th>about bodily</th>\n",
       "      <td>4618</td>\n",
       "      <td>2700</td>\n",
       "    </tr>\n",
       "    <tr>\n",
       "      <th>miss</th>\n",
       "      <td>2118</td>\n",
       "      <td>2058</td>\n",
       "    </tr>\n",
       "    <tr>\n",
       "      <th>should be legal</th>\n",
       "      <td>892</td>\n",
       "      <td>1060</td>\n",
       "    </tr>\n",
       "    <tr>\n",
       "      <th>put</th>\n",
       "      <td>1892</td>\n",
       "      <td>1054</td>\n",
       "    </tr>\n",
       "    <tr>\n",
       "      <th>little</th>\n",
       "      <td>1617</td>\n",
       "      <td>933</td>\n",
       "    </tr>\n",
       "    <tr>\n",
       "      <th>feminists</th>\n",
       "      <td>1416</td>\n",
       "      <td>834</td>\n",
       "    </tr>\n",
       "    <tr>\n",
       "      <th>chance</th>\n",
       "      <td>1256</td>\n",
       "      <td>779</td>\n",
       "    </tr>\n",
       "    <tr>\n",
       "      <th>worse</th>\n",
       "      <td>1686</td>\n",
       "      <td>718</td>\n",
       "    </tr>\n",
       "    <tr>\n",
       "      <th>my mind</th>\n",
       "      <td>1274</td>\n",
       "      <td>689</td>\n",
       "    </tr>\n",
       "  </tbody>\n",
       "</table>\n",
       "</div>"
      ],
      "text/plain": [
       "prolife_or_not      0     1\n",
       "sexist           2591  2736\n",
       "about bodily     4618  2700\n",
       "miss             2118  2058\n",
       "should be legal   892  1060\n",
       "put              1892  1054\n",
       "little           1617   933\n",
       "feminists        1416   834\n",
       "chance           1256   779\n",
       "worse            1686   718\n",
       "my mind          1274   689"
      ]
     },
     "execution_count": 374,
     "metadata": {},
     "output_type": "execute_result"
    }
   ],
   "source": [
    "vector_df.groupby('prolife_or_not').sum().T.sort_values(1, ascending=False).head(10)\n",
    "# top words in all text of pro-choice subreddit posts"
   ]
  },
  {
   "cell_type": "markdown",
   "id": "6b29de95-ec41-431e-83a9-ba1d3d73c2ec",
   "metadata": {},
   "source": [
    "## Finding tokens with greatest difference in occurrence between subreddits"
   ]
  },
  {
   "cell_type": "code",
   "execution_count": 375,
   "id": "a863299b-89da-4d72-a807-54e19f931fcf",
   "metadata": {},
   "outputs": [
    {
     "data": {
      "text/html": [
       "<div>\n",
       "<style scoped>\n",
       "    .dataframe tbody tr th:only-of-type {\n",
       "        vertical-align: middle;\n",
       "    }\n",
       "\n",
       "    .dataframe tbody tr th {\n",
       "        vertical-align: top;\n",
       "    }\n",
       "\n",
       "    .dataframe thead th {\n",
       "        text-align: right;\n",
       "    }\n",
       "</style>\n",
       "<table border=\"1\" class=\"dataframe\">\n",
       "  <thead>\n",
       "    <tr style=\"text-align: right;\">\n",
       "      <th>prolife_or_not</th>\n",
       "      <th>0</th>\n",
       "      <th>1</th>\n",
       "      <th>difference</th>\n",
       "    </tr>\n",
       "  </thead>\n",
       "  <tbody>\n",
       "    <tr>\n",
       "      <th>about bodily</th>\n",
       "      <td>4618</td>\n",
       "      <td>2700</td>\n",
       "      <td>-1918</td>\n",
       "    </tr>\n",
       "    <tr>\n",
       "      <th>worse</th>\n",
       "      <td>1686</td>\n",
       "      <td>718</td>\n",
       "      <td>-968</td>\n",
       "    </tr>\n",
       "    <tr>\n",
       "      <th>put</th>\n",
       "      <td>1892</td>\n",
       "      <td>1054</td>\n",
       "      <td>-838</td>\n",
       "    </tr>\n",
       "    <tr>\n",
       "      <th>little</th>\n",
       "      <td>1617</td>\n",
       "      <td>933</td>\n",
       "      <td>-684</td>\n",
       "    </tr>\n",
       "    <tr>\n",
       "      <th>it be</th>\n",
       "      <td>1137</td>\n",
       "      <td>474</td>\n",
       "      <td>-663</td>\n",
       "    </tr>\n",
       "    <tr>\n",
       "      <th>...</th>\n",
       "      <td>...</td>\n",
       "      <td>...</td>\n",
       "      <td>...</td>\n",
       "    </tr>\n",
       "    <tr>\n",
       "      <th>childhood</th>\n",
       "      <td>168</td>\n",
       "      <td>290</td>\n",
       "      <td>122</td>\n",
       "    </tr>\n",
       "    <tr>\n",
       "      <th>sexist</th>\n",
       "      <td>2591</td>\n",
       "      <td>2736</td>\n",
       "      <td>145</td>\n",
       "    </tr>\n",
       "    <tr>\n",
       "      <th>views</th>\n",
       "      <td>128</td>\n",
       "      <td>285</td>\n",
       "      <td>157</td>\n",
       "    </tr>\n",
       "    <tr>\n",
       "      <th>should be legal</th>\n",
       "      <td>892</td>\n",
       "      <td>1060</td>\n",
       "      <td>168</td>\n",
       "    </tr>\n",
       "    <tr>\n",
       "      <th>shooting</th>\n",
       "      <td>92</td>\n",
       "      <td>289</td>\n",
       "      <td>197</td>\n",
       "    </tr>\n",
       "  </tbody>\n",
       "</table>\n",
       "<p>7000 rows × 3 columns</p>\n",
       "</div>"
      ],
      "text/plain": [
       "prolife_or_not      0     1  difference\n",
       "about bodily     4618  2700       -1918\n",
       "worse            1686   718        -968\n",
       "put              1892  1054        -838\n",
       "little           1617   933        -684\n",
       "it be            1137   474        -663\n",
       "...               ...   ...         ...\n",
       "childhood         168   290         122\n",
       "sexist           2591  2736         145\n",
       "views             128   285         157\n",
       "should be legal   892  1060         168\n",
       "shooting           92   289         197\n",
       "\n",
       "[7000 rows x 3 columns]"
      ]
     },
     "execution_count": 375,
     "metadata": {},
     "output_type": "execute_result"
    }
   ],
   "source": [
    "tokens_sorted = vector_df.groupby('prolife_or_not').sum().T\n",
    "tokens_sorted['difference'] = tokens_sorted[1] - tokens_sorted[0]\n",
    "token_diff_sorted = tokens_sorted.sort_values('difference')\n",
    "token_diff_sorted"
   ]
  },
  {
   "cell_type": "code",
   "execution_count": 376,
   "id": "e172f2a9-c39d-40b3-96f1-f343fc7f7143",
   "metadata": {},
   "outputs": [
    {
     "data": {
      "text/html": [
       "<div>\n",
       "<style scoped>\n",
       "    .dataframe tbody tr th:only-of-type {\n",
       "        vertical-align: middle;\n",
       "    }\n",
       "\n",
       "    .dataframe tbody tr th {\n",
       "        vertical-align: top;\n",
       "    }\n",
       "\n",
       "    .dataframe thead th {\n",
       "        text-align: right;\n",
       "    }\n",
       "</style>\n",
       "<table border=\"1\" class=\"dataframe\">\n",
       "  <thead>\n",
       "    <tr style=\"text-align: right;\">\n",
       "      <th>prolife_or_not</th>\n",
       "      <th>0</th>\n",
       "      <th>1</th>\n",
       "      <th>difference</th>\n",
       "    </tr>\n",
       "  </thead>\n",
       "  <tbody>\n",
       "    <tr>\n",
       "      <th>about bodily</th>\n",
       "      <td>4618</td>\n",
       "      <td>2700</td>\n",
       "      <td>-1918</td>\n",
       "    </tr>\n",
       "    <tr>\n",
       "      <th>worse</th>\n",
       "      <td>1686</td>\n",
       "      <td>718</td>\n",
       "      <td>-968</td>\n",
       "    </tr>\n",
       "    <tr>\n",
       "      <th>put</th>\n",
       "      <td>1892</td>\n",
       "      <td>1054</td>\n",
       "      <td>-838</td>\n",
       "    </tr>\n",
       "    <tr>\n",
       "      <th>little</th>\n",
       "      <td>1617</td>\n",
       "      <td>933</td>\n",
       "      <td>-684</td>\n",
       "    </tr>\n",
       "    <tr>\n",
       "      <th>it be</th>\n",
       "      <td>1137</td>\n",
       "      <td>474</td>\n",
       "      <td>-663</td>\n",
       "    </tr>\n",
       "  </tbody>\n",
       "</table>\n",
       "</div>"
      ],
      "text/plain": [
       "prolife_or_not     0     1  difference\n",
       "about bodily    4618  2700       -1918\n",
       "worse           1686   718        -968\n",
       "put             1892  1054        -838\n",
       "little          1617   933        -684\n",
       "it be           1137   474        -663"
      ]
     },
     "execution_count": 376,
     "metadata": {},
     "output_type": "execute_result"
    }
   ],
   "source": [
    "prolife_majority = token_diff_sorted[-5:]\n",
    "prochoice_majority = token_diff_sorted[:5]\n",
    "#plt.barh(\n",
    "prochoice_majority"
   ]
  },
  {
   "cell_type": "code",
   "execution_count": 380,
   "id": "64d02fab-84c4-43ba-a702-116fa236e291",
   "metadata": {},
   "outputs": [
    {
     "data": {
      "text/html": [
       "<div>\n",
       "<style scoped>\n",
       "    .dataframe tbody tr th:only-of-type {\n",
       "        vertical-align: middle;\n",
       "    }\n",
       "\n",
       "    .dataframe tbody tr th {\n",
       "        vertical-align: top;\n",
       "    }\n",
       "\n",
       "    .dataframe thead th {\n",
       "        text-align: right;\n",
       "    }\n",
       "</style>\n",
       "<table border=\"1\" class=\"dataframe\">\n",
       "  <thead>\n",
       "    <tr style=\"text-align: right;\">\n",
       "      <th>prolife_or_not</th>\n",
       "      <th>0</th>\n",
       "      <th>1</th>\n",
       "      <th>difference</th>\n",
       "    </tr>\n",
       "  </thead>\n",
       "  <tbody>\n",
       "    <tr>\n",
       "      <th>about bodily</th>\n",
       "      <td>4618</td>\n",
       "      <td>2700</td>\n",
       "      <td>-1918</td>\n",
       "    </tr>\n",
       "    <tr>\n",
       "      <th>worse</th>\n",
       "      <td>1686</td>\n",
       "      <td>718</td>\n",
       "      <td>-968</td>\n",
       "    </tr>\n",
       "    <tr>\n",
       "      <th>put</th>\n",
       "      <td>1892</td>\n",
       "      <td>1054</td>\n",
       "      <td>-838</td>\n",
       "    </tr>\n",
       "    <tr>\n",
       "      <th>little</th>\n",
       "      <td>1617</td>\n",
       "      <td>933</td>\n",
       "      <td>-684</td>\n",
       "    </tr>\n",
       "    <tr>\n",
       "      <th>it be</th>\n",
       "      <td>1137</td>\n",
       "      <td>474</td>\n",
       "      <td>-663</td>\n",
       "    </tr>\n",
       "    <tr>\n",
       "      <th>childhood</th>\n",
       "      <td>168</td>\n",
       "      <td>290</td>\n",
       "      <td>122</td>\n",
       "    </tr>\n",
       "    <tr>\n",
       "      <th>sexist</th>\n",
       "      <td>2591</td>\n",
       "      <td>2736</td>\n",
       "      <td>145</td>\n",
       "    </tr>\n",
       "    <tr>\n",
       "      <th>views</th>\n",
       "      <td>128</td>\n",
       "      <td>285</td>\n",
       "      <td>157</td>\n",
       "    </tr>\n",
       "    <tr>\n",
       "      <th>should be legal</th>\n",
       "      <td>892</td>\n",
       "      <td>1060</td>\n",
       "      <td>168</td>\n",
       "    </tr>\n",
       "    <tr>\n",
       "      <th>shooting</th>\n",
       "      <td>92</td>\n",
       "      <td>289</td>\n",
       "      <td>197</td>\n",
       "    </tr>\n",
       "  </tbody>\n",
       "</table>\n",
       "</div>"
      ],
      "text/plain": [
       "prolife_or_not      0     1  difference\n",
       "about bodily     4618  2700       -1918\n",
       "worse            1686   718        -968\n",
       "put              1892  1054        -838\n",
       "little           1617   933        -684\n",
       "it be            1137   474        -663\n",
       "childhood         168   290         122\n",
       "sexist           2591  2736         145\n",
       "views             128   285         157\n",
       "should be legal   892  1060         168\n",
       "shooting           92   289         197"
      ]
     },
     "execution_count": 380,
     "metadata": {},
     "output_type": "execute_result"
    }
   ],
   "source": [
    "greatest_diffs = pd.concat([prolife_majority, prochoice_majority]).sort_values('difference')\n",
    "greatest_diffs"
   ]
  },
  {
   "cell_type": "code",
   "execution_count": 395,
   "id": "0a9a9e35-23c6-419c-bda3-e0ebddef133c",
   "metadata": {},
   "outputs": [
    {
     "data": {
      "image/png": "[encoded data removed]",
      "text/plain": [
       "<Figure size 864x576 with 1 Axes>"
      ]
     },
     "metadata": {
      "needs_background": "light"
     },
     "output_type": "display_data"
    }
   ],
   "source": [
    "plt.figure(figsize=(12,8))\n",
    "\n",
    "font_title = {'weight' : 'bold',\n",
    "        'size': 16}\n",
    "\n",
    "font_label = {'weight' : 'bold',\n",
    "        'size' : 12}\n",
    "\n",
    "\n",
    "plt.barh(greatest_diffs.index, greatest_diffs['difference'], color='hotpink')\n",
    "plt.title('Tokens with greatest difference in frequency between subreddits', fontdict=font_title)\n",
    "plt.xlabel('Frequency difference (prolife subreddit minus prochoice subreddit)', fontdict=font_label)\n",
    "plt.ylabel('Token', fontdict=font_label)\n",
    "plt.tick_params(axis='y', labelsize=14)\n",
    "plt.tick_params(axis='x', labelsize=12)\n",
    "plt.xticks(range(-2000, 500, 250));\n",
    "\n",
    "plt.savefig('../figures/token_differences.png')\n",
    "#consulted: https://stackoverflow.com/questions/11379910/how-do-i-change-the-font-size-of-the-scale-in-matplotlib-plots"
   ]
  },
  {
   "cell_type": "markdown",
   "id": "6730574a-7df6-4389-bbd3-3ee0bf15886d",
   "metadata": {},
   "source": [
    "## Sentiment Analysis"
   ]
  },
  {
   "cell_type": "code",
   "execution_count": 5,
   "id": "09b5f507-d6b7-42a6-b57d-d5d0de6f8da8",
   "metadata": {},
   "outputs": [],
   "source": [
    "# Sentiment analysis\n",
    "from nltk.sentiment.vader import SentimentIntensityAnalyzer"
   ]
  },
  {
   "cell_type": "code",
   "execution_count": 6,
   "id": "2eac38f7-5110-415f-823c-048a76b5a21a",
   "metadata": {},
   "outputs": [
    {
     "data": {
      "text/plain": [
       "{'neg': 0.204, 'neu': 0.796, 'pos': 0.0, 'compound': -0.3182}"
      ]
     },
     "execution_count": 6,
     "metadata": {},
     "output_type": "execute_result"
    }
   ],
   "source": [
    "sia = SentimentIntensityAnalyzer()\n",
    "\n",
    "sia.polarity_scores(df['title'][2])"
   ]
  },
  {
   "cell_type": "code",
   "execution_count": 39,
   "id": "83d458c4-a4c9-4010-8bdd-c9a1196576fe",
   "metadata": {},
   "outputs": [],
   "source": [
    "# inspo from NLP i lecture\n",
    "def extract_compound_sentiment(text):\n",
    "    scores = sia.polarity_scores(text)\n",
    "    return scores['compound']\n",
    "\n",
    "def extract_neg_sentiment(text):\n",
    "    scores = sia.polarity_scores(text)\n",
    "    return scores['neg']\n",
    "\n",
    "def extract_pos_sentiment(text):\n",
    "    scores = sia.polarity_scores(text)\n",
    "    return scores['pos']"
   ]
  },
  {
   "cell_type": "code",
   "execution_count": 40,
   "id": "915cd34a-e21a-450d-a863-5426df814116",
   "metadata": {},
   "outputs": [
    {
     "data": {
      "text/html": [
       "<div>\n",
       "<style scoped>\n",
       "    .dataframe tbody tr th:only-of-type {\n",
       "        vertical-align: middle;\n",
       "    }\n",
       "\n",
       "    .dataframe tbody tr th {\n",
       "        vertical-align: top;\n",
       "    }\n",
       "\n",
       "    .dataframe thead th {\n",
       "        text-align: right;\n",
       "    }\n",
       "</style>\n",
       "<table border=\"1\" class=\"dataframe\">\n",
       "  <thead>\n",
       "    <tr style=\"text-align: right;\">\n",
       "      <th></th>\n",
       "      <th>title</th>\n",
       "      <th>selftext</th>\n",
       "      <th>author_fullname</th>\n",
       "      <th>created_utc</th>\n",
       "      <th>subreddit</th>\n",
       "      <th>prolife_or_not</th>\n",
       "      <th>selftext_impute</th>\n",
       "      <th>all_text</th>\n",
       "      <th>title_sentiment_compound</th>\n",
       "      <th>sentiment_compound</th>\n",
       "      <th>sentiment_neg</th>\n",
       "      <th>sentiment_pos</th>\n",
       "    </tr>\n",
       "  </thead>\n",
       "  <tbody>\n",
       "    <tr>\n",
       "      <th>0</th>\n",
       "      <td>Jake here thinks we use abortion as a girls ni...</td>\n",
       "      <td>NaN</td>\n",
       "      <td>t2_h4yrdcak</td>\n",
       "      <td>1645731680</td>\n",
       "      <td>prochoice</td>\n",
       "      <td>0</td>\n",
       "      <td></td>\n",
       "      <td>Jake here thinks we use abortion as a girls ni...</td>\n",
       "      <td>0.0000</td>\n",
       "      <td>0.0000</td>\n",
       "      <td>0.000</td>\n",
       "      <td>0.000</td>\n",
       "    </tr>\n",
       "    <tr>\n",
       "      <th>1</th>\n",
       "      <td>How Black Feminists Defined Abortion Rights—As...</td>\n",
       "      <td>NaN</td>\n",
       "      <td>t2_wkk8q</td>\n",
       "      <td>1645729017</td>\n",
       "      <td>prochoice</td>\n",
       "      <td>0</td>\n",
       "      <td></td>\n",
       "      <td>How Black Feminists Defined Abortion Rights—As...</td>\n",
       "      <td>0.6597</td>\n",
       "      <td>0.6597</td>\n",
       "      <td>0.000</td>\n",
       "      <td>0.213</td>\n",
       "    </tr>\n",
       "    <tr>\n",
       "      <th>2</th>\n",
       "      <td>US-linked anti-abortion centre targeting women...</td>\n",
       "      <td>NaN</td>\n",
       "      <td>t2_bkt67o0k</td>\n",
       "      <td>1645714835</td>\n",
       "      <td>prochoice</td>\n",
       "      <td>0</td>\n",
       "      <td></td>\n",
       "      <td>US-linked anti-abortion centre targeting women...</td>\n",
       "      <td>-0.3182</td>\n",
       "      <td>-0.3182</td>\n",
       "      <td>0.204</td>\n",
       "      <td>0.000</td>\n",
       "    </tr>\n",
       "    <tr>\n",
       "      <th>3</th>\n",
       "      <td>I catch myself sometimes looking for the proli...</td>\n",
       "      <td>Anyone else ever do that? I think *Pfb* (pro f...</td>\n",
       "      <td>t2_47mcn020</td>\n",
       "      <td>1645655368</td>\n",
       "      <td>prochoice</td>\n",
       "      <td>0</td>\n",
       "      <td>Anyone else ever do that? I think *Pfb* (pro f...</td>\n",
       "      <td>I catch myself sometimes looking for the proli...</td>\n",
       "      <td>0.0000</td>\n",
       "      <td>0.5859</td>\n",
       "      <td>0.057</td>\n",
       "      <td>0.129</td>\n",
       "    </tr>\n",
       "    <tr>\n",
       "      <th>4</th>\n",
       "      <td>France extends abortion limit to 14 weeks</td>\n",
       "      <td>NaN</td>\n",
       "      <td>t2_n6epl</td>\n",
       "      <td>1645650196</td>\n",
       "      <td>prochoice</td>\n",
       "      <td>0</td>\n",
       "      <td></td>\n",
       "      <td>France extends abortion limit to 14 weeks</td>\n",
       "      <td>0.1280</td>\n",
       "      <td>0.1280</td>\n",
       "      <td>0.000</td>\n",
       "      <td>0.200</td>\n",
       "    </tr>\n",
       "  </tbody>\n",
       "</table>\n",
       "</div>"
      ],
      "text/plain": [
       "                                               title  \\\n",
       "0  Jake here thinks we use abortion as a girls ni...   \n",
       "1  How Black Feminists Defined Abortion Rights—As...   \n",
       "2  US-linked anti-abortion centre targeting women...   \n",
       "3  I catch myself sometimes looking for the proli...   \n",
       "4          France extends abortion limit to 14 weeks   \n",
       "\n",
       "                                            selftext author_fullname  \\\n",
       "0                                                NaN     t2_h4yrdcak   \n",
       "1                                                NaN        t2_wkk8q   \n",
       "2                                                NaN     t2_bkt67o0k   \n",
       "3  Anyone else ever do that? I think *Pfb* (pro f...     t2_47mcn020   \n",
       "4                                                NaN        t2_n6epl   \n",
       "\n",
       "   created_utc  subreddit  prolife_or_not  \\\n",
       "0   1645731680  prochoice               0   \n",
       "1   1645729017  prochoice               0   \n",
       "2   1645714835  prochoice               0   \n",
       "3   1645655368  prochoice               0   \n",
       "4   1645650196  prochoice               0   \n",
       "\n",
       "                                     selftext_impute  \\\n",
       "0                                                      \n",
       "1                                                      \n",
       "2                                                      \n",
       "3  Anyone else ever do that? I think *Pfb* (pro f...   \n",
       "4                                                      \n",
       "\n",
       "                                            all_text  \\\n",
       "0  Jake here thinks we use abortion as a girls ni...   \n",
       "1  How Black Feminists Defined Abortion Rights—As...   \n",
       "2  US-linked anti-abortion centre targeting women...   \n",
       "3  I catch myself sometimes looking for the proli...   \n",
       "4        France extends abortion limit to 14 weeks     \n",
       "\n",
       "   title_sentiment_compound  sentiment_compound  sentiment_neg  sentiment_pos  \n",
       "0                    0.0000              0.0000          0.000          0.000  \n",
       "1                    0.6597              0.6597          0.000          0.213  \n",
       "2                   -0.3182             -0.3182          0.204          0.000  \n",
       "3                    0.0000              0.5859          0.057          0.129  \n",
       "4                    0.1280              0.1280          0.000          0.200  "
      ]
     },
     "execution_count": 40,
     "metadata": {},
     "output_type": "execute_result"
    }
   ],
   "source": [
    "df['title_sentiment_compound'] = df['title'].map(extract_compound_sentiment)\n",
    "df['sentiment_compound'] = df['all_text'].map(extract_compound_sentiment)\n",
    "df['sentiment_neg'] = df['all_text'].map(extract_neg_sentiment)\n",
    "df['sentiment_pos'] = df['all_text'].map(extract_pos_sentiment)\n",
    "df.head()"
   ]
  },
  {
   "cell_type": "markdown",
   "id": "86bfed6e-52f0-4626-97f9-01474a88172f",
   "metadata": {},
   "source": [
    "## How do the distributions of sentiment scores compare?"
   ]
  },
  {
   "cell_type": "code",
   "execution_count": 14,
   "id": "80b4191b-4b27-4593-bf8d-78bf95eed47e",
   "metadata": {},
   "outputs": [
    {
     "data": {
      "text/html": [
       "<div>\n",
       "<style scoped>\n",
       "    .dataframe tbody tr th:only-of-type {\n",
       "        vertical-align: middle;\n",
       "    }\n",
       "\n",
       "    .dataframe tbody tr th {\n",
       "        vertical-align: top;\n",
       "    }\n",
       "\n",
       "    .dataframe thead th {\n",
       "        text-align: right;\n",
       "    }\n",
       "</style>\n",
       "<table border=\"1\" class=\"dataframe\">\n",
       "  <thead>\n",
       "    <tr style=\"text-align: right;\">\n",
       "      <th></th>\n",
       "      <th>sentiment_compound</th>\n",
       "    </tr>\n",
       "  </thead>\n",
       "  <tbody>\n",
       "    <tr>\n",
       "      <th>count</th>\n",
       "      <td>4986.000000</td>\n",
       "    </tr>\n",
       "    <tr>\n",
       "      <th>mean</th>\n",
       "      <td>-0.049307</td>\n",
       "    </tr>\n",
       "    <tr>\n",
       "      <th>std</th>\n",
       "      <td>0.514276</td>\n",
       "    </tr>\n",
       "    <tr>\n",
       "      <th>min</th>\n",
       "      <td>-0.999900</td>\n",
       "    </tr>\n",
       "    <tr>\n",
       "      <th>25%</th>\n",
       "      <td>-0.458800</td>\n",
       "    </tr>\n",
       "    <tr>\n",
       "      <th>50%</th>\n",
       "      <td>0.000000</td>\n",
       "    </tr>\n",
       "    <tr>\n",
       "      <th>75%</th>\n",
       "      <td>0.340000</td>\n",
       "    </tr>\n",
       "    <tr>\n",
       "      <th>max</th>\n",
       "      <td>0.997800</td>\n",
       "    </tr>\n",
       "  </tbody>\n",
       "</table>\n",
       "</div>"
      ],
      "text/plain": [
       "       sentiment_compound\n",
       "count         4986.000000\n",
       "mean            -0.049307\n",
       "std              0.514276\n",
       "min             -0.999900\n",
       "25%             -0.458800\n",
       "50%              0.000000\n",
       "75%              0.340000\n",
       "max              0.997800"
      ]
     },
     "execution_count": 14,
     "metadata": {},
     "output_type": "execute_result"
    }
   ],
   "source": [
    "df[df['subreddit'] == 'prolife'][['sentiment_compound']].describe()"
   ]
  },
  {
   "cell_type": "code",
   "execution_count": 15,
   "id": "7a3a5f4b-9b64-4dbe-853e-f7909e7b5b46",
   "metadata": {},
   "outputs": [
    {
     "data": {
      "text/plain": [
       "array([[<AxesSubplot:title={'center':'sentiment_compound'}>]],\n",
       "      dtype=object)"
      ]
     },
     "execution_count": 15,
     "metadata": {},
     "output_type": "execute_result"
    },
    {
     "data": {
      "image/png": "[encoded data removed]",
      "text/plain": [
       "<Figure size 432x288 with 1 Axes>"
      ]
     },
     "metadata": {
      "needs_background": "light"
     },
     "output_type": "display_data"
    }
   ],
   "source": [
    "df[df['subreddit'] == 'prolife'][['sentiment_compound']].hist()"
   ]
  },
  {
   "cell_type": "code",
   "execution_count": 268,
   "id": "df73f0a3-36b0-467a-a284-6ae7fb416af2",
   "metadata": {},
   "outputs": [
    {
     "data": {
      "text/html": [
       "<div>\n",
       "<style scoped>\n",
       "    .dataframe tbody tr th:only-of-type {\n",
       "        vertical-align: middle;\n",
       "    }\n",
       "\n",
       "    .dataframe tbody tr th {\n",
       "        vertical-align: top;\n",
       "    }\n",
       "\n",
       "    .dataframe thead th {\n",
       "        text-align: right;\n",
       "    }\n",
       "</style>\n",
       "<table border=\"1\" class=\"dataframe\">\n",
       "  <thead>\n",
       "    <tr style=\"text-align: right;\">\n",
       "      <th></th>\n",
       "      <th>sentiment_compound</th>\n",
       "    </tr>\n",
       "  </thead>\n",
       "  <tbody>\n",
       "    <tr>\n",
       "      <th>count</th>\n",
       "      <td>5000.000000</td>\n",
       "    </tr>\n",
       "    <tr>\n",
       "      <th>mean</th>\n",
       "      <td>-0.088787</td>\n",
       "    </tr>\n",
       "    <tr>\n",
       "      <th>std</th>\n",
       "      <td>0.555959</td>\n",
       "    </tr>\n",
       "    <tr>\n",
       "      <th>min</th>\n",
       "      <td>-0.999900</td>\n",
       "    </tr>\n",
       "    <tr>\n",
       "      <th>25%</th>\n",
       "      <td>-0.557400</td>\n",
       "    </tr>\n",
       "    <tr>\n",
       "      <th>50%</th>\n",
       "      <td>0.000000</td>\n",
       "    </tr>\n",
       "    <tr>\n",
       "      <th>75%</th>\n",
       "      <td>0.325200</td>\n",
       "    </tr>\n",
       "    <tr>\n",
       "      <th>max</th>\n",
       "      <td>0.999800</td>\n",
       "    </tr>\n",
       "  </tbody>\n",
       "</table>\n",
       "</div>"
      ],
      "text/plain": [
       "       sentiment_compound\n",
       "count         5000.000000\n",
       "mean            -0.088787\n",
       "std              0.555959\n",
       "min             -0.999900\n",
       "25%             -0.557400\n",
       "50%              0.000000\n",
       "75%              0.325200\n",
       "max              0.999800"
      ]
     },
     "execution_count": 268,
     "metadata": {},
     "output_type": "execute_result"
    }
   ],
   "source": [
    "df[df['subreddit'] == 'prochoice'][['sentiment_compound']].describe()"
   ]
  },
  {
   "cell_type": "code",
   "execution_count": 269,
   "id": "031b4382-23c9-4fa2-b683-dc97842d6708",
   "metadata": {},
   "outputs": [
    {
     "data": {
      "text/plain": [
       "array([[<AxesSubplot:title={'center':'sentiment_compound'}>]],\n",
       "      dtype=object)"
      ]
     },
     "execution_count": 269,
     "metadata": {},
     "output_type": "execute_result"
    },
    {
     "data": {
      "image/png": "[encoded data removed]",
      "text/plain": [
       "<Figure size 432x288 with 1 Axes>"
      ]
     },
     "metadata": {
      "needs_background": "light"
     },
     "output_type": "display_data"
    }
   ],
   "source": [
    "df[df['subreddit'] == 'prochoice'][['sentiment_compound']].hist()"
   ]
  },
  {
   "cell_type": "code",
   "execution_count": 182,
   "id": "350f7892-fcd3-4662-be15-f2754ef5bbb2",
   "metadata": {},
   "outputs": [
    {
     "data": {
      "text/plain": [
       "array([[<AxesSubplot:title={'center':'title_sentiment_pos'}>]],\n",
       "      dtype=object)"
      ]
     },
     "execution_count": 182,
     "metadata": {},
     "output_type": "execute_result"
    },
    {
     "data": {
      "image/png": "[encoded data removed]",
      "text/plain": [
       "<Figure size 432x288 with 1 Axes>"
      ]
     },
     "metadata": {
      "needs_background": "light"
     },
     "output_type": "display_data"
    }
   ],
   "source": [
    "df[df['subreddit'] == 'prolife'][['title_sentiment_pos']].hist()"
   ]
  },
  {
   "cell_type": "code",
   "execution_count": 16,
   "id": "7a92bd73-d717-4366-aa9b-f4a6efa6b6d7",
   "metadata": {},
   "outputs": [
    {
     "data": {
      "text/plain": [
       "array([[<AxesSubplot:title={'center':'sentiment_neg'}>]], dtype=object)"
      ]
     },
     "execution_count": 16,
     "metadata": {},
     "output_type": "execute_result"
    },
    {
     "data": {
      "image/png": "[encoded data removed]",
      "text/plain": [
       "<Figure size 432x288 with 1 Axes>"
      ]
     },
     "metadata": {
      "needs_background": "light"
     },
     "output_type": "display_data"
    }
   ],
   "source": [
    "df[df['subreddit'] == 'prolife'][['sentiment_neg']].hist()"
   ]
  },
  {
   "cell_type": "code",
   "execution_count": 17,
   "id": "d514bb1e-8971-45be-8c2a-72a557da692f",
   "metadata": {},
   "outputs": [
    {
     "data": {
      "text/plain": [
       "array([[<AxesSubplot:title={'center':'sentiment_neg'}>]], dtype=object)"
      ]
     },
     "execution_count": 17,
     "metadata": {},
     "output_type": "execute_result"
    },
    {
     "data": {
      "image/png": "[encoded data removed]",
      "text/plain": [
       "<Figure size 432x288 with 1 Axes>"
      ]
     },
     "metadata": {
      "needs_background": "light"
     },
     "output_type": "display_data"
    }
   ],
   "source": [
    "df[df['subreddit'] == 'prochoice'][['sentiment_neg']].hist()"
   ]
  },
  {
   "cell_type": "code",
   "execution_count": 38,
   "id": "2eeb8bba-3071-439c-88ca-9e12c97cbf99",
   "metadata": {},
   "outputs": [
    {
     "data": {
      "text/html": [
       "<div>\n",
       "<style scoped>\n",
       "    .dataframe tbody tr th:only-of-type {\n",
       "        vertical-align: middle;\n",
       "    }\n",
       "\n",
       "    .dataframe tbody tr th {\n",
       "        vertical-align: top;\n",
       "    }\n",
       "\n",
       "    .dataframe thead th {\n",
       "        text-align: right;\n",
       "    }\n",
       "</style>\n",
       "<table border=\"1\" class=\"dataframe\">\n",
       "  <thead>\n",
       "    <tr style=\"text-align: right;\">\n",
       "      <th></th>\n",
       "      <th>title</th>\n",
       "      <th>selftext</th>\n",
       "      <th>author_fullname</th>\n",
       "      <th>created_utc</th>\n",
       "      <th>subreddit</th>\n",
       "      <th>prolife_or_not</th>\n",
       "      <th>selftext_impute</th>\n",
       "      <th>all_text</th>\n",
       "    </tr>\n",
       "  </thead>\n",
       "  <tbody>\n",
       "    <tr>\n",
       "      <th>0</th>\n",
       "      <td>Jake here thinks we use abortion as a girls ni...</td>\n",
       "      <td>NaN</td>\n",
       "      <td>t2_h4yrdcak</td>\n",
       "      <td>1645731680</td>\n",
       "      <td>prochoice</td>\n",
       "      <td>0</td>\n",
       "      <td></td>\n",
       "      <td>Jake here thinks we use abortion as a girls ni...</td>\n",
       "    </tr>\n",
       "    <tr>\n",
       "      <th>1</th>\n",
       "      <td>How Black Feminists Defined Abortion Rights—As...</td>\n",
       "      <td>NaN</td>\n",
       "      <td>t2_wkk8q</td>\n",
       "      <td>1645729017</td>\n",
       "      <td>prochoice</td>\n",
       "      <td>0</td>\n",
       "      <td></td>\n",
       "      <td>How Black Feminists Defined Abortion Rights—As...</td>\n",
       "    </tr>\n",
       "    <tr>\n",
       "      <th>2</th>\n",
       "      <td>US-linked anti-abortion centre targeting women...</td>\n",
       "      <td>NaN</td>\n",
       "      <td>t2_bkt67o0k</td>\n",
       "      <td>1645714835</td>\n",
       "      <td>prochoice</td>\n",
       "      <td>0</td>\n",
       "      <td></td>\n",
       "      <td>US-linked anti-abortion centre targeting women...</td>\n",
       "    </tr>\n",
       "    <tr>\n",
       "      <th>3</th>\n",
       "      <td>I catch myself sometimes looking for the proli...</td>\n",
       "      <td>Anyone else ever do that? I think *Pfb* (pro f...</td>\n",
       "      <td>t2_47mcn020</td>\n",
       "      <td>1645655368</td>\n",
       "      <td>prochoice</td>\n",
       "      <td>0</td>\n",
       "      <td>Anyone else ever do that? I think *Pfb* (pro f...</td>\n",
       "      <td>I catch myself sometimes looking for the proli...</td>\n",
       "    </tr>\n",
       "    <tr>\n",
       "      <th>4</th>\n",
       "      <td>France extends abortion limit to 14 weeks</td>\n",
       "      <td>NaN</td>\n",
       "      <td>t2_n6epl</td>\n",
       "      <td>1645650196</td>\n",
       "      <td>prochoice</td>\n",
       "      <td>0</td>\n",
       "      <td></td>\n",
       "      <td>France extends abortion limit to 14 weeks</td>\n",
       "    </tr>\n",
       "  </tbody>\n",
       "</table>\n",
       "</div>"
      ],
      "text/plain": [
       "                                               title  \\\n",
       "0  Jake here thinks we use abortion as a girls ni...   \n",
       "1  How Black Feminists Defined Abortion Rights—As...   \n",
       "2  US-linked anti-abortion centre targeting women...   \n",
       "3  I catch myself sometimes looking for the proli...   \n",
       "4          France extends abortion limit to 14 weeks   \n",
       "\n",
       "                                            selftext author_fullname  \\\n",
       "0                                                NaN     t2_h4yrdcak   \n",
       "1                                                NaN        t2_wkk8q   \n",
       "2                                                NaN     t2_bkt67o0k   \n",
       "3  Anyone else ever do that? I think *Pfb* (pro f...     t2_47mcn020   \n",
       "4                                                NaN        t2_n6epl   \n",
       "\n",
       "   created_utc  subreddit  prolife_or_not  \\\n",
       "0   1645731680  prochoice               0   \n",
       "1   1645729017  prochoice               0   \n",
       "2   1645714835  prochoice               0   \n",
       "3   1645655368  prochoice               0   \n",
       "4   1645650196  prochoice               0   \n",
       "\n",
       "                                     selftext_impute  \\\n",
       "0                                                      \n",
       "1                                                      \n",
       "2                                                      \n",
       "3  Anyone else ever do that? I think *Pfb* (pro f...   \n",
       "4                                                      \n",
       "\n",
       "                                            all_text  \n",
       "0  Jake here thinks we use abortion as a girls ni...  \n",
       "1  How Black Feminists Defined Abortion Rights—As...  \n",
       "2  US-linked anti-abortion centre targeting women...  \n",
       "3  I catch myself sometimes looking for the proli...  \n",
       "4        France extends abortion limit to 14 weeks    "
      ]
     },
     "execution_count": 38,
     "metadata": {},
     "output_type": "execute_result"
    }
   ],
   "source": [
    "df.head()"
   ]
  },
  {
   "cell_type": "code",
   "execution_count": 48,
   "id": "45a4a7b5-ef97-48e8-9647-f9883faf07cd",
   "metadata": {},
   "outputs": [],
   "source": [
    "## Posts over time\n",
    "# convert UTC to GMT \n",
    "#source: https://www.epochconverter.com/\n",
    "\n",
    "import datetime"
   ]
  },
  {
   "cell_type": "code",
   "execution_count": 57,
   "id": "431a4505-357a-4f57-80f0-1367d71163a5",
   "metadata": {},
   "outputs": [
    {
     "data": {
      "text/plain": [
       "'02/23/2022'"
      ]
     },
     "execution_count": 57,
     "metadata": {},
     "output_type": "execute_result"
    }
   ],
   "source": [
    "dt = datetime.datetime.utcfromtimestamp(1645655368).replace(tzinfo=datetime.timezone.utc).strftime('%m/%d/%Y')\n",
    "dt"
   ]
  },
  {
   "cell_type": "code",
   "execution_count": null,
   "id": "59dd0d09-4f64-4fbe-a09c-cda64957cc64",
   "metadata": {},
   "outputs": [],
   "source": []
  },
  {
   "cell_type": "code",
   "execution_count": 47,
   "id": "a5a31617-3e81-4876-9982-a9f1fdfe597d",
   "metadata": {},
   "outputs": [
    {
     "data": {
      "text/plain": [
       "(array([ 353.,  350.,  511.,  456.,  425., 1016.,  618.,  514.,  356.,\n",
       "         401.]),\n",
       " array([1.61332979e+09, 1.61656998e+09, 1.61981017e+09, 1.62305036e+09,\n",
       "        1.62629054e+09, 1.62953073e+09, 1.63277092e+09, 1.63601111e+09,\n",
       "        1.63925130e+09, 1.64249149e+09, 1.64573168e+09]),\n",
       " <BarContainer object of 10 artists>)"
      ]
     },
     "execution_count": 47,
     "metadata": {},
     "output_type": "execute_result"
    },
    {
     "data": {
      "image/png": "[encoded data removed]",
      "text/plain": [
       "<Figure size 432x288 with 1 Axes>"
      ]
     },
     "metadata": {
      "needs_background": "light"
     },
     "output_type": "display_data"
    }
   ],
   "source": [
    "#time_prolife = \n",
    "plt.hist(df[df['subreddit'] == 'prolife']['created_utc'], color='red', alpha=.5)\n",
    "plt.hist(df[df['subreddit'] == 'prochoice']['created_utc'], color='goldenrod', alpha=.5)"
   ]
  },
  {
   "cell_type": "code",
   "execution_count": 46,
   "id": "1d586258-7414-4e9f-857f-b97e1633a938",
   "metadata": {},
   "outputs": [
    {
     "data": {
      "text/plain": [
       "<AxesSubplot:>"
      ]
     },
     "execution_count": 46,
     "metadata": {},
     "output_type": "execute_result"
    },
    {
     "data": {
      "image/png": "[encoded data removed]",
      "text/plain": [
       "<Figure size 432x288 with 1 Axes>"
      ]
     },
     "metadata": {
      "needs_background": "light"
     },
     "output_type": "display_data"
    }
   ],
   "source": [
    "df[df['subreddit'] == 'prochoice']['created_utc'].hist()"
   ]
  },
  {
   "cell_type": "code",
   "execution_count": null,
   "id": "53412e41-5e3d-4d06-9f29-1bbdafdc06f5",
   "metadata": {},
   "outputs": [],
   "source": []
  }
 ],
 "metadata": {
  "kernelspec": {
   "display_name": "Python 3 (ipykernel)",
   "language": "python",
   "name": "python3"
  },
  "language_info": {
   "codemirror_mode": {
    "name": "ipython",
    "version": 3
   },
   "file_extension": ".py",
   "mimetype": "text/x-python",
   "name": "python",
   "nbconvert_exporter": "python",
   "pygments_lexer": "ipython3",
   "version": "3.9.7"
  }
 },
 "nbformat": 4,
 "nbformat_minor": 5
}
